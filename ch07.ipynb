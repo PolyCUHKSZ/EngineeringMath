{
 "cells": [
  {
   "cell_type": "markdown",
   "id": "6d1fe416-4342-4df9-b41e-a41904f4f142",
   "metadata": {},
   "source": [
    "# Matrices"
   ]
  },
  {
   "cell_type": "markdown",
   "id": "35be1372-4012-43b0-910f-9f2a3e8d372b",
   "metadata": {},
   "source": [
    "A matrix is a rectangular grid of numbers, functions, symbols, or other mathematical expressions."
   ]
  },
  {
   "cell_type": "markdown",
   "id": "8070a57f-8cfa-4c28-8339-ac453350f135",
   "metadata": {},
   "source": [
    "## 7.1 Tne structure of a matrix"
   ]
  },
  {
   "cell_type": "markdown",
   "id": "f1d264bc-aadb-477f-8df0-c4fcf73bda4d",
   "metadata": {},
   "source": [
    "Simply put. the products of inertia measure the misalignment between the object's angular momentum and its angualr velocity"
   ]
  },
  {
   "cell_type": "markdown",
   "id": "d8fee1fd-ee36-43e2-a34d-ae05dce62e38",
   "metadata": {},
   "source": [
    "### 7.1.1 Defining matrices in python"
   ]
  },
  {
   "cell_type": "code",
   "execution_count": 2,
   "id": "4bfd8156-d1d7-42c9-8a74-94f2a04f7c24",
   "metadata": {},
   "outputs": [
    {
     "name": "stdout",
     "output_type": "stream",
     "text": [
      "A23  2\n",
      "B12  -sin(p)\n",
      "[[ 4 -1  3]\n",
      " [ 5  7  2]]\n",
      "Matrix([[cos(p), -sin(p)], [sin(p), cos(p)]])\n",
      "[[ 1]\n",
      " [-1]\n",
      " [ 3]]\n",
      "Matrix([[1], [-1], [3]])\n"
     ]
    }
   ],
   "source": [
    "import numpy as np\n",
    "from sympy import Matrix, sin, cos, symbols\n",
    "\n",
    "A = np.array([[4, -1, 3], [5, 7, 2]])\n",
    "\n",
    "p = symbols('p')\n",
    "B = Matrix([[cos(p), -sin(p)], [sin(p), cos(p)]])\n",
    "C_numpy = np.array([[1], [-1], [3]])\n",
    "C_sympy = Matrix([[1], [-1], [3]])\n",
    "\n",
    "print(\"A23 \", A[1,2])\n",
    "print(\"B12 \", B[0, 1])\n",
    "\n",
    "print(A)\n",
    "print(B)\n",
    "print(C_numpy)\n",
    "print(C_sympy)"
   ]
  },
  {
   "cell_type": "markdown",
   "id": "eb159dbb-0f8f-4d5b-9dd9-fdcc82b3650a",
   "metadata": {},
   "source": [
    "### 7.1.2 Vectors as matrices"
   ]
  },
  {
   "cell_type": "markdown",
   "id": "e2f9b506-c3ab-4204-8d09-de8f0856476e",
   "metadata": {},
   "source": [
    "## 7.2 Matrix operations"
   ]
  },
  {
   "cell_type": "markdown",
   "id": "5b264499-428a-4b7d-866e-7010de77b3b4",
   "metadata": {},
   "source": [
    "### 7.2.1 Matrix equivalence"
   ]
  },
  {
   "cell_type": "markdown",
   "id": "491a1ea4-a3e3-4a52-9c7b-23d017b91ffa",
   "metadata": {},
   "source": [
    "### 7.2.2 Multiplication by a scalar"
   ]
  },
  {
   "cell_type": "markdown",
   "id": "18f7097f-8edf-4bfa-9d87-86ef3652e645",
   "metadata": {},
   "source": [
    "### 7.2.3 Matrix addition"
   ]
  },
  {
   "cell_type": "markdown",
   "id": "407ca698-43f8-43a4-9c91-e938d3f62dc3",
   "metadata": {},
   "source": [
    "### 7.2.4 Matrix multiplication"
   ]
  },
  {
   "cell_type": "markdown",
   "id": "041f334d-0b8f-42ee-b7a7-af20124a35bd",
   "metadata": {},
   "source": [
    "### Example 7.2: Rotation of vectors with matrices"
   ]
  },
  {
   "cell_type": "code",
   "execution_count": 1,
   "id": "42db7449-d307-4ac7-a81b-5e9e01ab3b93",
   "metadata": {},
   "outputs": [
    {
     "name": "stdout",
     "output_type": "stream",
     "text": [
      "Matrix([\n",
      "[cos(phi1 + phi2), -sin(phi1 + phi2)],\n",
      "[sin(phi1 + phi2),  cos(phi1 + phi2)]])\n"
     ]
    }
   ],
   "source": [
    "from sympy import Matrix, sin, cos, symbols, simplify\n",
    "import pprint\n",
    "\n",
    "phi1, phi2 = symbols('phi1, phi2')\n",
    "\n",
    "R1 = Matrix([[cos(phi1),-sin(phi1)], [sin(phi1), cos(phi1)]])\n",
    "R2 = Matrix([[cos(phi2),-sin(phi2)], [sin(phi2), cos(phi2)]])\n",
    "\n",
    "R = R1 * R2\n",
    "pp = pprint.PrettyPrinter(width=41, compact=True)\n",
    "pp.pprint(simplify(R))"
   ]
  },
  {
   "cell_type": "markdown",
   "id": "4854dbd3-a78c-4163-9682-fbb2215488b6",
   "metadata": {},
   "source": [
    "### 7.2.5 Trace of a matrix"
   ]
  },
  {
   "cell_type": "markdown",
   "id": "d6fe0617-56aa-430b-b726-d44c4dddfa0d",
   "metadata": {},
   "source": [
    "### 7.2.6 Tranpose and hermitian and joint of a matrix"
   ]
  },
  {
   "cell_type": "markdown",
   "id": "c9e0926c-a34f-4982-9b12-2fe9d4d84c7e",
   "metadata": {},
   "source": [
    "### Example 7.3: The Pauli matrices"
   ]
  },
  {
   "cell_type": "code",
   "execution_count": 3,
   "id": "28915623-83ab-4ab7-b21d-5fb7347e0a8c",
   "metadata": {},
   "outputs": [
    {
     "name": "stdout",
     "output_type": "stream",
     "text": [
      "True\n",
      "True\n",
      "True\n"
     ]
    }
   ],
   "source": [
    "import numpy as np\n",
    "from sympy import simplify\n",
    "\n",
    "s_x = np.array([[0, 1], [1, 0]])\n",
    "s_y = np.array([[0, -1j], [1j, 0]])\n",
    "s_z = np.array([[1, 0], [0, -1]])\n",
    "\n",
    "s_x_dagger = np.conjugate(np.transpose(s_x))\n",
    "s_y_dagger = np.conjugate(np.transpose(s_y))\n",
    "s_z_dagger = np.conjugate(np.transpose(s_z))\n",
    "\n",
    "print(np.array_equal(s_x, s_x_dagger))\n",
    "print(np.array_equal(s_y, s_y_dagger))\n",
    "print(np.array_equal(s_z, s_z_dagger))"
   ]
  },
  {
   "cell_type": "code",
   "execution_count": 5,
   "id": "4c7cbfa7-1059-4782-885b-ef6b6d0d19db",
   "metadata": {},
   "outputs": [
    {
     "name": "stdout",
     "output_type": "stream",
     "text": [
      "[[2.0*I, 0], [0, -2.0*I]]\n",
      "[[0, 0], [0, 0]]\n"
     ]
    }
   ],
   "source": [
    "commut = simplify(s_x @ s_y - s_y @ s_x)\n",
    "print(commut)\n",
    "anti_commut = simplify(s_x @ s_y + s_y @ s_x)\n",
    "print(anti_commut)"
   ]
  },
  {
   "cell_type": "markdown",
   "id": "bd868082-6f82-480d-bfb4-21306498b335",
   "metadata": {},
   "source": [
    "## 7.3 The determinant"
   ]
  },
  {
   "cell_type": "markdown",
   "id": "0d909a45-07f0-44b6-b8d8-9fbf275b419f",
   "metadata": {},
   "source": [
    "### 7.3.1 Calculating determinants"
   ]
  },
  {
   "cell_type": "markdown",
   "id": "fe2be8cf-6bbe-4013-a6d8-2fc99fcadd78",
   "metadata": {},
   "source": [
    "### Example 7.4: The determinant of a $3\\times 3$ matrix"
   ]
  },
  {
   "cell_type": "code",
   "execution_count": 13,
   "id": "c326d21c-fffc-4dde-81bd-253b1efa2a24",
   "metadata": {},
   "outputs": [
    {
     "name": "stdout",
     "output_type": "stream",
     "text": [
      "Determinant of C is  17.0\n"
     ]
    }
   ],
   "source": [
    "from sympy import MatrixSymbol, simplify\n",
    "from numpy import array, array_equal, linalg\n",
    "C = array([[2,3,-1],[1,4,-2],[5,9,0]])\n",
    "print('Determinant of C is ', linalg.det(C))"
   ]
  },
  {
   "cell_type": "code",
   "execution_count": 10,
   "id": "de7b3b49-480e-4e3b-a324-3471ea9bc0c5",
   "metadata": {},
   "outputs": [
    {
     "name": "stdout",
     "output_type": "stream",
     "text": [
      "Matrix([[A[0, 0], A[0, 1], A[0, 2]], [A[1, 0], A[1, 1], A[1, 2]], [A[2, 0], A[2, 1], A[2, 2]]])\n",
      "Matrix([[B[0, 0], B[0, 1], B[0, 2]], [B[1, 0], B[1, 1], B[1, 2]], [B[2, 0], B[2, 1], B[2, 2]]])\n",
      "The identity det(AB) = det(A)det(B) is:  True\n"
     ]
    }
   ],
   "source": [
    "A = MatrixSymbol('A', 3, 3)\n",
    "B = MatrixSymbol('B', 3, 3)\n",
    "\n",
    "# make symbolic matrices into mutable matrices with explicit elements\n",
    "Am = A.as_mutable()\n",
    "Bm = B.as_mutable()\n",
    "\n",
    "print(Am)\n",
    "print(Bm)\n",
    "\n",
    "print('The identity det(AB) = det(A)det(B) is: ', (array_equal(Am.det()*Bm.det(), Bm.det()*Am.det())))"
   ]
  },
  {
   "cell_type": "code",
   "execution_count": 15,
   "id": "ac30c6e3-9c14-4ed9-8005-582c8428de2d",
   "metadata": {},
   "outputs": [
    {
     "name": "stdout",
     "output_type": "stream",
     "text": [
      "The identity det(AB) = det(B)det(A) is:  False\n",
      "The identity det(AB) = det(A)det(B) is:  False\n"
     ]
    }
   ],
   "source": [
    "print('The identity det(AB) = det(B)det(A) is: ', (array_equal((Am@Bm).det(), Bm.det()*Am.det())))\n",
    "print('The identity det(AB) = det(A)det(B) is: ', (array_equal(simplify((Am@Bm).det()), simplify(Am.det()*Bm.det()))))"
   ]
  },
  {
   "cell_type": "code",
   "execution_count": 14,
   "id": "a6b91a11-e710-4588-b445-985040e4fa8f",
   "metadata": {},
   "outputs": [
    {
     "name": "stdout",
     "output_type": "stream",
     "text": [
      "A[0, 0]*A[1, 1]*A[2, 2]*B[0, 0]*B[1, 1]*B[2, 2] - A[0, 0]*A[1, 1]*A[2, 2]*B[0, 0]*B[1, 2]*B[2, 1] - A[0, 0]*A[1, 1]*A[2, 2]*B[0, 1]*B[1, 0]*B[2, 2] + A[0, 0]*A[1, 1]*A[2, 2]*B[0, 1]*B[1, 2]*B[2, 0] + A[0, 0]*A[1, 1]*A[2, 2]*B[0, 2]*B[1, 0]*B[2, 1] - A[0, 0]*A[1, 1]*A[2, 2]*B[0, 2]*B[1, 1]*B[2, 0] - A[0, 0]*A[1, 2]*A[2, 1]*B[0, 0]*B[1, 1]*B[2, 2] + A[0, 0]*A[1, 2]*A[2, 1]*B[0, 0]*B[1, 2]*B[2, 1] + A[0, 0]*A[1, 2]*A[2, 1]*B[0, 1]*B[1, 0]*B[2, 2] - A[0, 0]*A[1, 2]*A[2, 1]*B[0, 1]*B[1, 2]*B[2, 0] - A[0, 0]*A[1, 2]*A[2, 1]*B[0, 2]*B[1, 0]*B[2, 1] + A[0, 0]*A[1, 2]*A[2, 1]*B[0, 2]*B[1, 1]*B[2, 0] - A[0, 1]*A[1, 0]*A[2, 2]*B[0, 0]*B[1, 1]*B[2, 2] + A[0, 1]*A[1, 0]*A[2, 2]*B[0, 0]*B[1, 2]*B[2, 1] + A[0, 1]*A[1, 0]*A[2, 2]*B[0, 1]*B[1, 0]*B[2, 2] - A[0, 1]*A[1, 0]*A[2, 2]*B[0, 1]*B[1, 2]*B[2, 0] - A[0, 1]*A[1, 0]*A[2, 2]*B[0, 2]*B[1, 0]*B[2, 1] + A[0, 1]*A[1, 0]*A[2, 2]*B[0, 2]*B[1, 1]*B[2, 0] + A[0, 1]*A[1, 2]*A[2, 0]*B[0, 0]*B[1, 1]*B[2, 2] - A[0, 1]*A[1, 2]*A[2, 0]*B[0, 0]*B[1, 2]*B[2, 1] - A[0, 1]*A[1, 2]*A[2, 0]*B[0, 1]*B[1, 0]*B[2, 2] + A[0, 1]*A[1, 2]*A[2, 0]*B[0, 1]*B[1, 2]*B[2, 0] + A[0, 1]*A[1, 2]*A[2, 0]*B[0, 2]*B[1, 0]*B[2, 1] - A[0, 1]*A[1, 2]*A[2, 0]*B[0, 2]*B[1, 1]*B[2, 0] + A[0, 2]*A[1, 0]*A[2, 1]*B[0, 0]*B[1, 1]*B[2, 2] - A[0, 2]*A[1, 0]*A[2, 1]*B[0, 0]*B[1, 2]*B[2, 1] - A[0, 2]*A[1, 0]*A[2, 1]*B[0, 1]*B[1, 0]*B[2, 2] + A[0, 2]*A[1, 0]*A[2, 1]*B[0, 1]*B[1, 2]*B[2, 0] + A[0, 2]*A[1, 0]*A[2, 1]*B[0, 2]*B[1, 0]*B[2, 1] - A[0, 2]*A[1, 0]*A[2, 1]*B[0, 2]*B[1, 1]*B[2, 0] - A[0, 2]*A[1, 1]*A[2, 0]*B[0, 0]*B[1, 1]*B[2, 2] + A[0, 2]*A[1, 1]*A[2, 0]*B[0, 0]*B[1, 2]*B[2, 1] + A[0, 2]*A[1, 1]*A[2, 0]*B[0, 1]*B[1, 0]*B[2, 2] - A[0, 2]*A[1, 1]*A[2, 0]*B[0, 1]*B[1, 2]*B[2, 0] - A[0, 2]*A[1, 1]*A[2, 0]*B[0, 2]*B[1, 0]*B[2, 1] + A[0, 2]*A[1, 1]*A[2, 0]*B[0, 2]*B[1, 1]*B[2, 0]\n"
     ]
    }
   ],
   "source": [
    "print(simplify((Am@Bm).det()))"
   ]
  },
  {
   "cell_type": "markdown",
   "id": "739324cf-0bcb-419d-a5a3-9c80f47c3ece",
   "metadata": {},
   "source": [
    "### 7.3.2 Determinants as representations of area and volume"
   ]
  },
  {
   "cell_type": "markdown",
   "id": "5ee0e07c-46e0-4329-a6d9-433cb2f7f9d6",
   "metadata": {},
   "source": [
    "## Example 7.5: The Lorentz force"
   ]
  },
  {
   "cell_type": "code",
   "execution_count": 16,
   "id": "52381e21-e487-41e4-b1f4-8eacb6cb0381",
   "metadata": {},
   "outputs": [
    {
     "name": "stdout",
     "output_type": "stream",
     "text": [
      "The Lorentz force is F = \n",
      "[q*(-By*vz + Bz*vy) q*(Bx*vz - Bz*vx) q*(-Bx*vy + By*vx)]\n",
      "q*(-By*vz + Bz*vy)\n",
      "q*(Bx*vz - Bz*vx)\n",
      "q*(-Bx*vy + By*vx)\n"
     ]
    }
   ],
   "source": [
    "from numpy import array, cross\n",
    "from sympy import symbols\n",
    "\n",
    "Bx, By, Bz, vx, vy, vz, q = symbols('Bx, By, Bz, vx, vy, vz, q')\n",
    "\n",
    "B = array([Bx, By, Bz])\n",
    "v = array([vx, vy, vz])\n",
    "\n",
    "F = q * cross(v, B)\n",
    "print(\"The Lorentz force is F = \")\n",
    "print(F)\n",
    "\n",
    "print(F[0])\n",
    "print(F[1])\n",
    "print(F[2])"
   ]
  },
  {
   "cell_type": "markdown",
   "id": "a3496287-cb08-455f-9d77-d2d17f35140c",
   "metadata": {},
   "source": [
    "### 7.3.3 The Jacobian determinant and volume transformations"
   ]
  },
  {
   "cell_type": "markdown",
   "id": "a27c4e13-0dc8-4e44-bb27-fc72672761ca",
   "metadata": {},
   "source": [
    "### Example 7.6: Example of using the Jacobian: The area of an ellipse"
   ]
  },
  {
   "cell_type": "code",
   "execution_count": 17,
   "id": "6635dfb1-9043-4cce-af8d-4bf8cc3bf518",
   "metadata": {},
   "outputs": [
    {
     "name": "stdout",
     "output_type": "stream",
     "text": [
      "a*b\n"
     ]
    }
   ],
   "source": [
    "from sympy import symbols, integrate, diff, pi, simplify, sqrt\n",
    "x, y, a, b, xprime, yprime = symbols('x, y, a, b, xprime, yprime', \\\n",
    "real=True)\n",
    "\n",
    "x = a * xprime\n",
    "y = b * yprime\n",
    "\n",
    "J = diff(x, xprime)*diff(y,yprime)-diff(x,yprime)*diff(y, yprime)\n",
    "print(simplify(J))"
   ]
  },
  {
   "cell_type": "code",
   "execution_count": 18,
   "id": "e6acc38f-0586-495b-843b-14c52bf79f03",
   "metadata": {},
   "outputs": [
    {
     "name": "stdout",
     "output_type": "stream",
     "text": [
      "pi*a*b\n"
     ]
    }
   ],
   "source": [
    "A = integrate(4*J, (yprime, 0, sqrt(1-xprime**2)), (xprime, 0, 1),)\n",
    "print(A)"
   ]
  },
  {
   "cell_type": "markdown",
   "id": "6b75902b-6932-4e16-84b8-9e211c2eb828",
   "metadata": {},
   "source": [
    "## 7.4 Matrices and systems of Linear equations"
   ]
  },
  {
   "cell_type": "markdown",
   "id": "224a1ed1-2bbc-4229-902f-8dcb5e560b2f",
   "metadata": {},
   "source": [
    "### 7.4.1 Representing system of linear equations as a matrix equation"
   ]
  },
  {
   "cell_type": "markdown",
   "id": "78f88b7c-80fc-4bbf-b8b6-e2b32c92c98b",
   "metadata": {},
   "source": [
    "### Example 7.7: The inverse of a Matrix"
   ]
  },
  {
   "cell_type": "code",
   "execution_count": 21,
   "id": "489843fc-a4a3-43ba-9ea7-bac37b9d7498",
   "metadata": {},
   "outputs": [
    {
     "name": "stdout",
     "output_type": "stream",
     "text": [
      "The inverse of A is: \n",
      "Matrix([\n",
      "[ d/(a*d - b*c), -b/(a*d - b*c)],\n",
      "[-c/(a*d - b*c),  a/(a*d - b*c)]])\n",
      "The product inverseA*A is\n",
      "Matrix([[1, 0], [0, 1]])\n"
     ]
    }
   ],
   "source": [
    "from sympy import symbols, Matrix, simplify, solve\n",
    "import pprint\n",
    "\n",
    "pp = pprint.PrettyPrinter(width=41, compact=True)\n",
    "a, b, c, d, e, f, x, y = symbols('a, b, c, d, e, f, x, y')\n",
    "A = Matrix([[a, b], [c,d]])\n",
    "\n",
    "det = A.det()\n",
    "inverse = A.inv()\n",
    "\n",
    "print('The inverse of A is: ')\n",
    "pp.pprint(inverse)\n",
    "\n",
    "print('The product inverseA*A is')\n",
    "print(simplify(inverse*A))"
   ]
  },
  {
   "cell_type": "code",
   "execution_count": 22,
   "id": "4c73a4cc-f185-4553-bb2e-09ae2a3de605",
   "metadata": {},
   "outputs": [
    {
     "name": "stdout",
     "output_type": "stream",
     "text": [
      "(-b*f + d*e)/(a*d - b*c)\n",
      "(a*f - c*e)/(a*d - b*c)\n"
     ]
    }
   ],
   "source": [
    "sol = solve([a*x+b*y-e, c*x+d*y-f], (x, y))\n",
    "print(sol[x])\n",
    "print(sol[y])"
   ]
  },
  {
   "cell_type": "markdown",
   "id": "c76d5084-fee0-4ce9-89db-ebd00508641b",
   "metadata": {},
   "source": [
    "### 7.4.2 Representing systems of linear equations as an augmented matrix"
   ]
  },
  {
   "cell_type": "markdown",
   "id": "c1467c3c-aab7-4e61-a62d-7f46fbf5491f",
   "metadata": {},
   "source": [
    "### Example 7.8: Kirchhoff's laws for electronics"
   ]
  },
  {
   "cell_type": "code",
   "execution_count": 23,
   "id": "c9392b1f-1f5a-4dbe-b1f4-686430a51519",
   "metadata": {},
   "outputs": [
    {
     "name": "stdout",
     "output_type": "stream",
     "text": [
      "Matrix([[1, 2, 0, 5], [0, 2, -3, -5], [1, -1, -1, 0]])\n",
      "Matrix([[1, 0, 0, 35/11], [0, 1, 0, 10/11], [0, 0, 1, 25/11]])\n"
     ]
    }
   ],
   "source": [
    "from sympy import Matrix\n",
    "A = Matrix([[1,2,0,5],[0,2,-3,-5],[1,-1,-1,0]])\n",
    "\n",
    "Ared = A.rref()[0]\n",
    "print(A)\n",
    "print(Ared)"
   ]
  },
  {
   "cell_type": "markdown",
   "id": "d217d018-2e9e-4499-ba9e-80e02c34905c",
   "metadata": {},
   "source": [
    "### 7.4.3 Homogeneous equations"
   ]
  },
  {
   "cell_type": "markdown",
   "id": "308c4f63-61f2-4768-8f99-49bc59acbdc1",
   "metadata": {},
   "source": [
    "A system of n homogeneous equations with n unknowns has solutions other than the trivial solution, if and only if, the determinant of its coefficient matrix is equal to zero."
   ]
  },
  {
   "cell_type": "markdown",
   "id": "7666cda6-cf89-4889-834c-2acae471600e",
   "metadata": {},
   "source": [
    "### Example 7.9: The normal modes of a two-mass three-spring system"
   ]
  },
  {
   "cell_type": "code",
   "execution_count": 24,
   "id": "80dd4fac-6344-4cbc-8772-b86459893d7a",
   "metadata": {},
   "outputs": [
    {
     "name": "stdout",
     "output_type": "stream",
     "text": [
      "Matrix([\n",
      "[2*k - m*omega**2,               -k],\n",
      "[              -k, 2*k - m*omega**2]])\n"
     ]
    }
   ],
   "source": [
    "from sympy import symbols, exp, I, diff, solve, expand, symbols, Matrix\n",
    "import pprint\n",
    "pp = pprint.PrettyPrinter(width=41, compact=True)\n",
    "\n",
    "k, m, omega, x1, x2, A1, A2, t = \\\n",
    "symbols(\"k, m, omega, x1, x2, A1, A2, t\")\n",
    "\n",
    "x1 = A1*exp(I*omega*t)\n",
    "x2 = A2*exp(I*omega*t)\n",
    "\n",
    "eq1 =expand((m*diff(x1,t,t)+k*x1+k*(x1-x2))/exp(I*omega*t))\n",
    "eq2 =expand((m*diff(x2,t,t)+k*x2+k*(x2-x1))/exp(I*omega*t))\n",
    "\n",
    "# Matrix A has coefficients of A1, A2 in the system of equations\n",
    "A = Matrix([[eq1.coeff(A1), eq1.coeff(A2)], [eq2.coeff(A1), eq2.coeff(A2)]])\n",
    "\n",
    "pp.pprint(A)"
   ]
  },
  {
   "cell_type": "code",
   "execution_count": 25,
   "id": "4e61a0aa-b9cf-4bec-a6ca-a020cc39f9fe",
   "metadata": {},
   "outputs": [
    {
     "name": "stdout",
     "output_type": "stream",
     "text": [
      "-sqrt(3)*sqrt(k/m)\n",
      "sqrt(3)*sqrt(k/m)\n",
      "-sqrt(k/m)\n",
      "sqrt(k/m)\n"
     ]
    }
   ],
   "source": [
    "# set determinant det(A)=0 and solve for omega\n",
    "sol = solve(A.det(), omega)\n",
    "print(sol[0])\n",
    "print(sol[1])\n",
    "print(sol[2])\n",
    "print(sol[3])"
   ]
  },
  {
   "cell_type": "markdown",
   "id": "7e756173-1e70-4b25-a86a-14532b91ba90",
   "metadata": {},
   "source": [
    "## 7.5 Matrices as representations of linear operators"
   ]
  },
  {
   "cell_type": "markdown",
   "id": "12bc511f-b665-4123-8b4d-acf988901c41",
   "metadata": {},
   "source": [
    "An operator is a mapping of a function from one space to another (possibly the same space). In fact, the derivative is a linear operator."
   ]
  },
  {
   "cell_type": "markdown",
   "id": "696fba3e-d501-46e7-aa67-71088370f108",
   "metadata": {},
   "source": [
    "Another way of describing an operator is that an operator is a rule which provides instructions on what to do with its argument."
   ]
  },
  {
   "cell_type": "markdown",
   "id": "47989fe4-b420-478a-a3c8-1e2bdeec95ef",
   "metadata": {},
   "source": [
    "We will now look at a special type of transformation, the orthogonal transformations. A matrix R representing an orthogonal transformation is called an orthogonal matrix. A matrix R is orthogonal, if its inverse is equal to its tranpose."
   ]
  },
  {
   "cell_type": "markdown",
   "id": "3a0925fa-5b6a-4d0b-ae88-d048340ff8e3",
   "metadata": {},
   "source": [
    "### Example 7.10: The rotation matrix"
   ]
  },
  {
   "cell_type": "code",
   "execution_count": 27,
   "id": "1cc5bd51-c8d8-4c81-899c-1a24873ffcc4",
   "metadata": {},
   "outputs": [
    {
     "name": "stdout",
     "output_type": "stream",
     "text": [
      "Matrix([\n",
      "[vx*cos(p) - vy*sin(p)],\n",
      "[vx*sin(p) + vy*cos(p)]])\n",
      "1\n"
     ]
    }
   ],
   "source": [
    "from sympy import Matrix, simplify, cos, sin, symbols\n",
    "import pprint\n",
    "pp = pprint.PrettyPrinter(width=41, compact=True)\n",
    "\n",
    "p, vx, vy = symbols('p, vx, vy')\n",
    "# define matrices R, v\n",
    "R = Matrix([[cos(p), -sin(p)], [sin(p), cos(p)]])\n",
    "v = Matrix([vx, vy])\n",
    "\n",
    "vprime = R @ v\n",
    "pp.pprint(vprime)\n",
    "\n",
    "print(simplify(R.det()))"
   ]
  },
  {
   "cell_type": "code",
   "execution_count": 28,
   "id": "0a5ece3b-8199-453e-a8fd-afdc5a71b067",
   "metadata": {},
   "outputs": [
    {
     "name": "stdout",
     "output_type": "stream",
     "text": [
      "Matrix([\n",
      "[ cos(p), sin(p)],\n",
      "[-sin(p), cos(p)]])\n"
     ]
    }
   ],
   "source": [
    "Rinv = R.inv()\n",
    "pp.pprint(simplify(Rinv))"
   ]
  },
  {
   "cell_type": "code",
   "execution_count": 29,
   "id": "4336e9e1-39aa-42ea-9903-d7a8d2faf5d2",
   "metadata": {},
   "outputs": [
    {
     "name": "stdout",
     "output_type": "stream",
     "text": [
      "Matrix([\n",
      "[1, 0],\n",
      "[0, 1]])\n"
     ]
    }
   ],
   "source": [
    "pp.pprint(simplify(Rinv@R))"
   ]
  },
  {
   "cell_type": "code",
   "execution_count": 31,
   "id": "29ceaa44-294f-4ec4-87ed-7fe92d541939",
   "metadata": {},
   "outputs": [
    {
     "name": "stdout",
     "output_type": "stream",
     "text": [
      "vx**2 + vy**2\n"
     ]
    }
   ],
   "source": [
    "print(simplify(vprime[0]**2+vprime[1]**2))"
   ]
  },
  {
   "cell_type": "markdown",
   "id": "ab0bcb99-a6fd-40d1-a266-5f9265ead15e",
   "metadata": {},
   "source": [
    "## 7.6 Eigenvalues and eigenvectors"
   ]
  },
  {
   "cell_type": "markdown",
   "id": "891e5ccc-755f-4b69-9f2a-6260d75dc5c4",
   "metadata": {},
   "source": [
    "In classical mechanics, the eigenvectors of a rigid body's inertia tensor correspond to the body's axes of symmetry, and the eigenvalues are the moment of inertia about those axes. In quantum mechancis, eigenvectors correspond to potential states a particle can occupy after a measurement is made, while eigenvalues are potential results for a measurement."
   ]
  },
  {
   "cell_type": "code",
   "execution_count": 33,
   "id": "699e1871-7126-4e9d-a3cb-db446ac91681",
   "metadata": {},
   "outputs": [
    {
     "name": "stdout",
     "output_type": "stream",
     "text": [
      "{3: 1, 1: 1}\n",
      "[Matrix([\n",
      "[-1],\n",
      "[ 1]])]\n",
      "[Matrix([\n",
      "[1],\n",
      "[1]])]\n"
     ]
    }
   ],
   "source": [
    "from sympy import Matrix\n",
    "\n",
    "A = Matrix([[2, 1], [1,2]])\n",
    "print(A.eigenvals())\n",
    "\n",
    "print(A.eigenvects()[0][2])\n",
    "print(A.eigenvects()[1][2])"
   ]
  },
  {
   "cell_type": "markdown",
   "id": "a8edc8e3-4344-48db-a5b4-95664f1c7264",
   "metadata": {},
   "source": [
    "### Example 7.12: Ther inertia tensor of a cube"
   ]
  },
  {
   "cell_type": "code",
   "execution_count": 34,
   "id": "059e515e-e523-4dca-9cf8-693be90f023f",
   "metadata": {},
   "outputs": [
    {
     "name": "stdout",
     "output_type": "stream",
     "text": [
      "{2*c: 1, 11*c: 2}\n"
     ]
    }
   ],
   "source": [
    "from sympy import Matrix, symbols\n",
    "\n",
    "c = symbols('c')\n",
    "\n",
    "A = Matrix([[8*c,-3*c,-3*c],[-3*c,8*c,-3*c],[-3*c,-3*c,8*c]])\n",
    "\n",
    "print(A.eigenvals())"
   ]
  },
  {
   "cell_type": "code",
   "execution_count": 35,
   "id": "b29ca622-8a3c-4266-830c-06692588aa4b",
   "metadata": {},
   "outputs": [
    {
     "name": "stdout",
     "output_type": "stream",
     "text": [
      "[(2*c, 1, [Matrix([\n",
      "[1],\n",
      "[1],\n",
      "[1]])]), (11*c, 2, [Matrix([\n",
      "[-1],\n",
      "[ 1],\n",
      "[ 0]]), Matrix([\n",
      "[-1],\n",
      "[ 0],\n",
      "[ 1]])])]\n"
     ]
    }
   ],
   "source": [
    "print(A.eigenvects())"
   ]
  },
  {
   "cell_type": "markdown",
   "id": "d64810ff-0f89-4758-b836-e1227151572d",
   "metadata": {},
   "source": [
    "## 7.7 Diagonalization of a matrix"
   ]
  },
  {
   "cell_type": "markdown",
   "id": "0c3320b3-67bd-48ee-afa2-344d454af6b5",
   "metadata": {},
   "source": [
    "Similar matrices have the same rank, trace, determinant, and eigenvalues"
   ]
  },
  {
   "cell_type": "code",
   "execution_count": null,
   "id": "665cfbc6-14f6-4747-b4cd-129f4603ecd5",
   "metadata": {},
   "outputs": [],
   "source": []
  }
 ],
 "metadata": {
  "kernelspec": {
   "display_name": "Python 3 (ipykernel)",
   "language": "python",
   "name": "python3"
  },
  "language_info": {
   "codemirror_mode": {
    "name": "ipython",
    "version": 3
   },
   "file_extension": ".py",
   "mimetype": "text/x-python",
   "name": "python",
   "nbconvert_exporter": "python",
   "pygments_lexer": "ipython3",
   "version": "3.11.5"
  }
 },
 "nbformat": 4,
 "nbformat_minor": 5
}
