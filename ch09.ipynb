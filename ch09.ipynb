{
 "cells": [
  {
   "cell_type": "markdown",
   "id": "844daa37-0fc6-4d0f-8403-730dc789c37f",
   "metadata": {},
   "source": [
    "# Vector spaces"
   ]
  },
  {
   "cell_type": "markdown",
   "id": "592c8f4f-e001-4b31-bf71-d12cf9cd0422",
   "metadata": {},
   "source": [
    "Linear algebra is the branch of mathematics dealing with vector spaced and linear transformations."
   ]
  },
  {
   "cell_type": "markdown",
   "id": "b2ff6b03-93dc-4501-88dc-4dd97d245a26",
   "metadata": {},
   "source": [
    "## 9.1 Definition of a vector space"
   ]
  },
  {
   "cell_type": "markdown",
   "id": "03cd2f76-fdf5-4072-8598-09f8c9b34142",
   "metadata": {},
   "source": [
    "## 9.2 Finite dimensional vector spaces"
   ]
  },
  {
   "cell_type": "markdown",
   "id": "12139b37-ae49-4203-8ba2-3d2f5204300a",
   "metadata": {},
   "source": [
    "### 9.2.1 Linear independence"
   ]
  },
  {
   "cell_type": "markdown",
   "id": "c8d08e1e-f263-4501-8a36-c10af8cdc96f",
   "metadata": {},
   "source": [
    "### Example 9.1: Linear independence of vectors"
   ]
  },
  {
   "cell_type": "code",
   "execution_count": 3,
   "id": "6d71fb2e-a58c-410e-96da-d91797c21851",
   "metadata": {},
   "outputs": [
    {
     "name": "stdout",
     "output_type": "stream",
     "text": [
      "The determinant of A in part (a) is =  -3\n",
      "0\n",
      "{c1: 2*c3/5, c2: -7*c3/5}\n"
     ]
    }
   ],
   "source": [
    "from sympy import Matrix, solve, symbols\n",
    "c1, c2, c3 = symbols('c1, c2, c3')\n",
    "# part (a)\n",
    "A = Matrix([[1, 1, -1], [0, 1, 1], [-1, 1, 0]])\n",
    "\n",
    "print('The determinant of A in part (a) is = ', A.det())\n",
    "\n",
    "# part (b)\n",
    "A = Matrix([[1,1,1],[14,-1,-7],[-3,2,4]])\n",
    "print(A.det())\n",
    "coeffs = solve([c1 + c2 + c3, 14*c1 - c2 -7*c3,\\\n",
    "               -3*c1 + 2*c2 + 4*c3], [c1, c2, c3])\n",
    "# print(A.det())\n",
    "print(coeffs)"
   ]
  },
  {
   "cell_type": "markdown",
   "id": "f2d879d4-b41f-466c-8e34-06a764c3b717",
   "metadata": {},
   "source": [
    "### 9.2.2 Basis vectors"
   ]
  },
  {
   "cell_type": "markdown",
   "id": "524ba842-80db-4ef7-8dbc-2c569b93b549",
   "metadata": {},
   "source": [
    "### 9.2.3 Beyond cartersian coordinates"
   ]
  },
  {
   "cell_type": "markdown",
   "id": "fbac7b75-052d-4bf4-bc91-95ba6bb05120",
   "metadata": {},
   "source": [
    "Vector spaces can contain other vector spaces of smaller dimensions, called subspace."
   ]
  },
  {
   "cell_type": "markdown",
   "id": "565acf3b-58a3-479c-9dbc-8772f797283c",
   "metadata": {},
   "source": [
    "### 9.2.4 The Gram-Schmidt method"
   ]
  },
  {
   "cell_type": "code",
   "execution_count": 4,
   "id": "4744cf74-68e8-49c6-95a9-cff1833f9152",
   "metadata": {},
   "outputs": [
    {
     "name": "stdout",
     "output_type": "stream",
     "text": [
      "[0. 0. 0. 1.]\n",
      "[1. 0. 0. 0.]\n",
      "[0.  0.6 0.8 0. ]\n"
     ]
    }
   ],
   "source": [
    "import numpy as np\n",
    "from sympy.matrices import Matrix, GramSchmidt\n",
    "\n",
    "a1 = np.array([0, 0, 0, 3])\n",
    "a2 = np.array([2, 0, 0, 4])\n",
    "a3 = np.array([1, 3, 4, 2])\n",
    "\n",
    "e1 = a1/np.linalg.norm(a1)\n",
    "e2_numerator = a2 - e1 * np.dot(e1, a2)\n",
    "e2 = e2_numerator/np.linalg.norm(e2_numerator)\n",
    "\n",
    "e3_numerator = a3 - e1*np.dot(e1, a3) - e2 * np.dot(e2,a3)\n",
    "e3 = e3_numerator/np.linalg.norm(e3_numerator)\n",
    "\n",
    "print(e1)\n",
    "print(e2)\n",
    "print(e3)"
   ]
  },
  {
   "cell_type": "code",
   "execution_count": 5,
   "id": "070e47a5-fbd7-4d24-99f6-e85a3471939c",
   "metadata": {},
   "outputs": [
    {
     "name": "stdout",
     "output_type": "stream",
     "text": [
      "The SymPy command GramSchmidt produces:\n",
      "Matrix([[0], [0], [0], [1]])\n",
      "Matrix([[1], [0], [0], [0]])\n",
      "Matrix([[0], [3/5], [4/5], [0]])\n"
     ]
    }
   ],
   "source": [
    "# SymPy method\n",
    "a =[Matrix([0,0,0,3]),Matrix([2,0,0,4]),Matrix([1,3,4,2])]\n",
    "GS =GramSchmidt(a,True)\n",
    "print('The SymPy command GramSchmidt produces:')\n",
    "for i in GS:\n",
    "    print(i)"
   ]
  },
  {
   "cell_type": "markdown",
   "id": "eaaa2a88-38ff-46c2-a320-26bccc7a6e33",
   "metadata": {},
   "source": [
    "## 9.3 Vector spaces of functions"
   ]
  },
  {
   "cell_type": "markdown",
   "id": "70944828-8d67-4d65-ba6c-19684427ad15",
   "metadata": {},
   "source": [
    "However, vector spaced can also be spaces of functions."
   ]
  },
  {
   "cell_type": "markdown",
   "id": "b200c1ac-d422-4229-b3a8-4f871fb0183a",
   "metadata": {},
   "source": [
    "### 9.3.1 Definition"
   ]
  },
  {
   "cell_type": "markdown",
   "id": "f46057ab-d627-4c0c-be10-6ac131b7f8b1",
   "metadata": {},
   "source": [
    "Vector spaces of functions can be infinite dimensional. The mathematics of infinite dimensional vectors spaces are beyond the scope of this text."
   ]
  },
  {
   "cell_type": "markdown",
   "id": "0a56681d-f93d-4fd0-9115-3ee59c4fd19b",
   "metadata": {},
   "source": [
    "### 9.3.2 Functions and linear independence"
   ]
  },
  {
   "cell_type": "markdown",
   "id": "3d6cfc7d-01a2-44ea-b2f2-a2df87753ec8",
   "metadata": {},
   "source": [
    "### Example 9.3: The Wronskian"
   ]
  },
  {
   "cell_type": "code",
   "execution_count": 7,
   "id": "39f2bb30-25c3-463c-b706-4eb4b5410b19",
   "metadata": {},
   "outputs": [
    {
     "name": "stdout",
     "output_type": "stream",
     "text": [
      "The Wronskian =  0\n"
     ]
    }
   ],
   "source": [
    "from sympy import symbols, exp, sin, cos, I\n",
    "from sympy.matrices.dense import wronskian\n",
    "\n",
    "x = symbols('x')\n",
    "W = wronskian([exp(I*x), exp(-I*x), sin(x), cos(x)], x)\n",
    "\n",
    "print('The Wronskian = ', W)"
   ]
  },
  {
   "cell_type": "markdown",
   "id": "955f89ba-d252-4665-8770-180995eaac11",
   "metadata": {},
   "source": [
    "### 9.3.3 Inner products and functions"
   ]
  },
  {
   "cell_type": "markdown",
   "id": "cb90c5d8-5802-4507-9b12-394939e48ef7",
   "metadata": {},
   "source": [
    "### Example 9.4: Hermite polynomials"
   ]
  },
  {
   "cell_type": "code",
   "execution_count": 8,
   "id": "ca55d2fb-8d18-4b00-8c5b-47f5032434c8",
   "metadata": {},
   "outputs": [
    {
     "name": "stdout",
     "output_type": "stream",
     "text": [
      "H_0(x) =  1\n",
      "H_1(x) =  2*x\n",
      "H_2(x) =  4*x**2 - 2\n"
     ]
    }
   ],
   "source": [
    "from sympy import symbols, integrate, oo, exp\n",
    "from sympy.polys.orthopolys import hermite_poly\n",
    "\n",
    "x = symbols('x')\n",
    "\n",
    "def ortho(n, m):\n",
    "    return integrate(exp(-x**2)*hermite_poly(n,x)*hermite_poly(m,x), (x,-oo,+oo))\n",
    "\n",
    "print('H_0(x) = ', hermite_poly(0,x))\n",
    "print('H_1(x) = ', hermite_poly(1,x))\n",
    "print('H_2(x) = ', hermite_poly(2,x))"
   ]
  },
  {
   "cell_type": "code",
   "execution_count": 9,
   "id": "b6145e32-8b57-4ee5-bfb3-5022c2871f1c",
   "metadata": {},
   "outputs": [
    {
     "name": "stdout",
     "output_type": "stream",
     "text": [
      "\n",
      "The ortogonality relationships are:\n",
      "H0-H0 =  sqrt(pi)\n",
      "H0-H1 =  0\n",
      "H0-H2 =  0\n",
      "H1-H1 =  2*sqrt(pi)\n",
      "H1-H2 =  0\n",
      "H2-H2 =  8*sqrt(pi)\n"
     ]
    }
   ],
   "source": [
    "print('\\nThe ortogonality relationships are:')\n",
    "print('H0-H0 = ', ortho(0,0))\n",
    "print('H0-H1 = ', ortho(0,1))\n",
    "print('H0-H2 = ', ortho(0,2))\n",
    "print('H1-H1 = ', ortho(1,1))\n",
    "print('H1-H2 = ', ortho(1,2))\n",
    "print('H2-H2 = ', ortho(2,2))"
   ]
  },
  {
   "cell_type": "markdown",
   "id": "a4f40f42-b590-4c98-88c3-b75c18b73198",
   "metadata": {},
   "source": [
    "### 9.3.4 Basis functions"
   ]
  },
  {
   "cell_type": "markdown",
   "id": "a057b593-ab35-490f-b452-a325d8d09928",
   "metadata": {},
   "source": [
    "A set of functions ${f_i}$ for $i=1\\cdots n$ are a basis set in the vector space V, if the elements in the set ${f_i}$ are linearly independent and span the vector space."
   ]
  },
  {
   "cell_type": "markdown",
   "id": "903f196f-6c66-4c56-9a2b-c0407b3f4101",
   "metadata": {},
   "source": [
    "### Example 9.5: Basis functions"
   ]
  },
  {
   "cell_type": "code",
   "execution_count": 13,
   "id": "a3b09743-81a8-4063-a483-69ed8d43fc01",
   "metadata": {},
   "outputs": [
    {
     "name": "stdout",
     "output_type": "stream",
     "text": [
      "2\n"
     ]
    }
   ],
   "source": [
    "from sympy import symbols\n",
    "from sympy.matrices.dense import wronskian\n",
    "\n",
    "x = symbols('x')\n",
    "\n",
    "w = wronskian([1,x,x**2], x)\n",
    "print(w)"
   ]
  },
  {
   "cell_type": "markdown",
   "id": "4be2a5bd-8835-4128-bc2f-bad00e41b704",
   "metadata": {},
   "source": [
    "### 9.3.5 The Gram-Schmidt method for functions"
   ]
  },
  {
   "cell_type": "markdown",
   "id": "1fbca2e5-c0eb-4696-b706-57a742e4fdc5",
   "metadata": {},
   "source": [
    "### Example 9.6: The Gram-Schmidt method for functions"
   ]
  },
  {
   "cell_type": "code",
   "execution_count": 14,
   "id": "78387fca-6387-4067-810f-5e9842c93679",
   "metadata": {},
   "outputs": [
    {
     "name": "stdout",
     "output_type": "stream",
     "text": [
      "The orthonormal basis of the vector space is:\n",
      "e0 =  sqrt(2)/2\n",
      "e1 =  sqrt(6)*x/2\n",
      "e2 =  3*sqrt(10)*(x**2 - 1/3)/4\n"
     ]
    }
   ],
   "source": [
    "from sympy import symbols, integrate, sqrt\n",
    "x = symbols('x')\n",
    "f0, f1, f2 = 1, x, x**2\n",
    "# function to integrate two functions\n",
    "def inner_prod(g1, g2):\n",
    "    return integrate(g1*g2, (x,-1,1))\n",
    "e0 = f0/sqrt(inner_prod(f0, f0))\n",
    "\n",
    "# numerator of e1\n",
    "e1_num = f1 - e0*inner_prod(e0, f1)\n",
    "e1 = e1_num/sqrt(inner_prod(e1_num, e1_num))\n",
    "\n",
    "e2_num = f2 - e0*inner_prod(e0, f2) - e1*inner_prod(e1, f2)\n",
    "e2 = e2_num/sqrt(inner_prod(e2_num, e2_num))\n",
    "\n",
    "print('The orthonormal basis of the vector space is:')\n",
    "print('e0 = ', e0)\n",
    "print('e1 = ', e1)\n",
    "print('e2 = ', e2)"
   ]
  },
  {
   "cell_type": "markdown",
   "id": "bb1067d3-0151-4e23-8cb4-f1a7ffdbadd9",
   "metadata": {},
   "source": [
    "## 9.4 Infinite dimensional vector spaces"
   ]
  },
  {
   "cell_type": "markdown",
   "id": "7030d8ab-fc20-4a93-aab7-be7c687ae1ee",
   "metadata": {},
   "source": [
    "As we will see in a later chapter, the solutions to partial differential equations often involve infinite sums, which can be thought of as a linear combination of an infinite-dimensional basis set."
   ]
  },
  {
   "cell_type": "markdown",
   "id": "70713c54-6d2d-4ba4-8267-90bff586c195",
   "metadata": {},
   "source": [
    "### 9.4.1 Quantum mechancis and hilbert space"
   ]
  }
 ],
 "metadata": {
  "kernelspec": {
   "display_name": "Python 3 (ipykernel)",
   "language": "python",
   "name": "python3"
  },
  "language_info": {
   "codemirror_mode": {
    "name": "ipython",
    "version": 3
   },
   "file_extension": ".py",
   "mimetype": "text/x-python",
   "name": "python",
   "nbconvert_exporter": "python",
   "pygments_lexer": "ipython3",
   "version": "3.11.5"
  }
 },
 "nbformat": 4,
 "nbformat_minor": 5
}
