{
 "cells": [
  {
   "cell_type": "markdown",
   "id": "849f0a98-85bb-46ac-a756-6a35065715a7",
   "metadata": {},
   "source": [
    "# Integration"
   ]
  },
  {
   "cell_type": "markdown",
   "id": "6097f626-e515-4587-a667-0ab542800cdc",
   "metadata": {},
   "source": [
    "## 3.1 Integrals"
   ]
  },
  {
   "cell_type": "markdown",
   "id": "3db6b534-d78e-4dfd-b78f-8c4739088ef2",
   "metadata": {},
   "source": [
    "## 3.2 Review of elementary integrals"
   ]
  },
  {
   "cell_type": "markdown",
   "id": "1daacc77-a64f-46df-92b2-8bcf5ca3f6f4",
   "metadata": {},
   "source": [
    "## 3.3 Overview of integration methods in python"
   ]
  },
  {
   "cell_type": "markdown",
   "id": "f51a446b-4845-40b6-a304-c0621885d3e8",
   "metadata": {},
   "source": [
    "## 3.4 Integration by parts"
   ]
  },
  {
   "cell_type": "markdown",
   "id": "7fc4c58b-5d61-4e7f-89fe-c4d1cfbf63c9",
   "metadata": {},
   "source": [
    "### 3.1: An example of integration by parts"
   ]
  },
  {
   "cell_type": "code",
   "execution_count": 3,
   "id": "41c8fea4-b779-4901-835c-7e95ebbba979",
   "metadata": {},
   "outputs": [
    {
     "name": "stdout",
     "output_type": "stream",
     "text": [
      "The indefinite cosine integral =  x*sin(n*x)/n + cos(n*x)/n**2\n",
      "The indefinite sine integral =  -x*cos(n*x)/n + sin(n*x)/n**2\n"
     ]
    }
   ],
   "source": [
    "from sympy import symbols, integrate, cos, sin, exp\n",
    "x = symbols('x')\n",
    "n = symbols('n', positive=True)\n",
    "\n",
    "print('The indefinite cosine integral = ', integrate(x*cos(n*x),x))\n",
    "print('The indefinite sine integral = ', integrate(x*sin(n*x),x))"
   ]
  },
  {
   "cell_type": "code",
   "execution_count": 4,
   "id": "222a284d-84bb-48f5-bb44-cc490f986b41",
   "metadata": {},
   "outputs": [
    {
     "name": "stdout",
     "output_type": "stream",
     "text": [
      "The indefinite integral 1 =  -x**3*cos(x) + 3*x**2*sin(x) + 6*x*cos(x) - 6*sin(x)\n",
      "The indefinite integral 2 =  (x**2 - 2*x + 2)*exp(x)\n"
     ]
    }
   ],
   "source": [
    "print('The indefinite integral 1 = ', integrate(x**3*sin(x),x))\n",
    "print('The indefinite integral 2 = ', integrate(x**2*exp(x),x))"
   ]
  },
  {
   "cell_type": "markdown",
   "id": "d5beb207-bc8c-43b4-860d-acfaaf4cd9d4",
   "metadata": {},
   "source": [
    "## 3.5 Parametric integration for definite integrals"
   ]
  },
  {
   "cell_type": "markdown",
   "id": "41cd3689-e07a-45d6-ada1-ebb7c26dd7cc",
   "metadata": {},
   "source": [
    "### Example 3.2: An example of the parametric integration method"
   ]
  },
  {
   "cell_type": "code",
   "execution_count": 6,
   "id": "877bb35d-3529-437a-8370-9676f8b2c0ef",
   "metadata": {},
   "outputs": [
    {
     "name": "stdout",
     "output_type": "stream",
     "text": [
      "t**(-2)\n",
      "2/t**3\n"
     ]
    }
   ],
   "source": [
    "from sympy import symbols, integrate, exp, oo\n",
    "x, t = symbols('x ,t', real=True, positive=True)\n",
    "\n",
    "int1 = integrate(x*exp(-x*t), (x, 0, oo))\n",
    "int2 = integrate(x**2*exp(-x*t), (x, 0, oo))\n",
    "\n",
    "print(int1)\n",
    "print(int2)"
   ]
  },
  {
   "cell_type": "code",
   "execution_count": 9,
   "id": "cdc78d15-5b62-4b68-9e73-7321837d534b",
   "metadata": {},
   "outputs": [
    {
     "name": "stdout",
     "output_type": "stream",
     "text": [
      "t**(1/2 - n)*gamma(n + 1/2)/(2*t)\n"
     ]
    }
   ],
   "source": [
    "n = symbols('n', positive=True, real=True)\n",
    "int3 = integrate(x**(2*n)*exp(-x**2*t), (x, 0, oo))\n",
    "print(int3)"
   ]
  },
  {
   "cell_type": "markdown",
   "id": "35b2e010-db8b-4165-bbab-0140298f9dde",
   "metadata": {},
   "source": [
    "## 3.6 Integrating analytical functions in python"
   ]
  },
  {
   "cell_type": "markdown",
   "id": "594a5286-0449-4edb-ad7f-f202ad000b1b",
   "metadata": {},
   "source": [
    "### Example 3.3: Integration of Newton's law"
   ]
  },
  {
   "cell_type": "code",
   "execution_count": 10,
   "id": "44e12bf2-0729-4bae-8e3e-a34677433448",
   "metadata": {},
   "outputs": [
    {
     "name": "stdout",
     "output_type": "stream",
     "text": [
      "F0*atan(t)/m\n"
     ]
    }
   ],
   "source": [
    "from sympy import symbols, integrate\n",
    "t, F0, m = symbols('t, F0, m', real=True)\n",
    "\n",
    "int1 = integrate(F0/m*(1/(t**2+1)), t)\n",
    "print(int1)"
   ]
  },
  {
   "cell_type": "markdown",
   "id": "48c033d9-1ece-4a4a-8832-86180e00f6c6",
   "metadata": {},
   "source": [
    "### Example 3.4: Expectation value of the position in Qunatim Mechanics"
   ]
  },
  {
   "cell_type": "code",
   "execution_count": 12,
   "id": "1afadeb3-6388-4251-bd44-84d91642ba37",
   "metadata": {},
   "outputs": [
    {
     "name": "stdout",
     "output_type": "stream",
     "text": [
      "2/3\n"
     ]
    }
   ],
   "source": [
    "import sympy as sym\n",
    "# symbolic integration with sympy.integrate\n",
    "from scipy import integrate\n",
    "x = sym.symbols('x')\n",
    "int0 = sym.integrate(x**3, (x, 0, 1)) + sym.integrate(x*((2-x)**2), (x,1,2))\n",
    "print(int0)"
   ]
  },
  {
   "cell_type": "code",
   "execution_count": 13,
   "id": "dbf71e1d-31f0-4994-9106-7f2839ce5f75",
   "metadata": {},
   "outputs": [
    {
     "name": "stdout",
     "output_type": "stream",
     "text": [
      "(0.25, 2.7755575615628914e-15)\n",
      "(0.41666666666666674, 4.625929269271486e-15)\n",
      "0.6666666666666667\n"
     ]
    }
   ],
   "source": [
    "f = lambda x: x**3\n",
    "int1 = integrate.quad(f, 0, 1)\n",
    "print(int1)\n",
    "\n",
    "g = lambda x: x*((2-x)**2)\n",
    "int2 = integrate.quad(g, 1, 2)\n",
    "print(int2)\n",
    "\n",
    "print(int1[0] + int2[0])"
   ]
  },
  {
   "cell_type": "markdown",
   "id": "9d8ec762-69cf-4039-afb9-66d2d6ea3bef",
   "metadata": {},
   "source": [
    "### Example 3.5: Center of mass of a rod"
   ]
  },
  {
   "cell_type": "code",
   "execution_count": 15,
   "id": "6467d2b5-0347-41fb-bf6f-57856d3cd396",
   "metadata": {},
   "outputs": [
    {
     "name": "stdout",
     "output_type": "stream",
     "text": [
      "0.6666666666666667\n"
     ]
    }
   ],
   "source": [
    "import sympy as sym\n",
    "from scipy import integrate\n",
    "x, L = sym.symbols('x, L')\n",
    "\n",
    "int1 = integrate.quad(lambda x: 2*x**2, 0, 1)  # 1st integral numerically\n",
    "int2 = integrate.quad(lambda x: 2*x, 0, 1)  # second integral\n",
    "print(int1[0]/int2[0])"
   ]
  },
  {
   "cell_type": "code",
   "execution_count": 17,
   "id": "eae2c90f-41a1-4681-a325-f93e817e2433",
   "metadata": {},
   "outputs": [
    {
     "name": "stdout",
     "output_type": "stream",
     "text": [
      "2*L/3\n"
     ]
    }
   ],
   "source": [
    "symb = sym.integrate(2*x**2, (x, 0, L))/sym.integrate(2*x, (x,0,L))\n",
    "print(symb)"
   ]
  },
  {
   "cell_type": "markdown",
   "id": "0d2a9c8a-15c3-42e1-a3e9-98d5fe2de318",
   "metadata": {},
   "source": [
    "## 3.7 Fourier series"
   ]
  },
  {
   "cell_type": "markdown",
   "id": "86fd68f4-a6a6-4ca8-8c25-a4a9c740d6d7",
   "metadata": {},
   "source": [
    "### Example 3.6: Evaluaton of Fourier coefficients for a periodic function"
   ]
  },
  {
   "cell_type": "code",
   "execution_count": 18,
   "id": "1c87225d-081d-432a-b5bc-e6161721e49a",
   "metadata": {},
   "outputs": [
    {
     "name": "stdout",
     "output_type": "stream",
     "text": [
      "Fourier coefficients an=  0\n",
      "Fourier coefficients bn=  -2*(-1)**n/n\n"
     ]
    }
   ],
   "source": [
    "from sympy import symbols, integrate, sin, cos, pi\n",
    "x = symbols('x')\n",
    "n = symbols('n', integer=True, positive=True)\n",
    "print(\"Fourier coefficients an= \", integrate(x*cos(n*x), (x, -pi, pi))/pi)\n",
    "print(\"Fourier coefficients bn= \", integrate(x*sin(n*x), (x, -pi, pi))/pi)"
   ]
  },
  {
   "cell_type": "markdown",
   "id": "046d0cfb-d9fe-47a4-a1d2-1d7b6ba387e8",
   "metadata": {},
   "source": [
    "## 3.8 Improper integrals and integrals of special functions"
   ]
  },
  {
   "cell_type": "markdown",
   "id": "15dd3f0a-6f22-4ee9-82d8-a96bc90f6b19",
   "metadata": {},
   "source": [
    "### Example 3.7: Using the error function in Quantum Mechanics"
   ]
  },
  {
   "cell_type": "code",
   "execution_count": 19,
   "id": "cb5ec843-60c4-4e9b-858a-0241ab502878",
   "metadata": {},
   "outputs": [
    {
     "name": "stdout",
     "output_type": "stream",
     "text": [
      "sqrt(pi)*A**2*sqrt(hbar)/(sqrt(m)*sqrt(omega))\n"
     ]
    }
   ],
   "source": [
    "from sympy import symbols, integrate, exp, oo, solve, sqrt\n",
    "x, m, omega, hbar, A = symbols('x, m, omega, hbar, A', positive=True)\n",
    "\n",
    "lhs = integrate((A*exp(-m*omega/(2*hbar)*x**2))**2, (x,-oo,oo))\n",
    "print(lhs)"
   ]
  },
  {
   "cell_type": "code",
   "execution_count": 20,
   "id": "02f1b3f9-bb79-4105-9224-68cc85870ba9",
   "metadata": {},
   "outputs": [
    {
     "name": "stdout",
     "output_type": "stream",
     "text": [
      "[m**(1/4)*omega**(1/4)/(pi**(1/4)*hbar**(1/4))]\n"
     ]
    }
   ],
   "source": [
    "A1 = solve(lhs-1,A)\n",
    "print(A1)"
   ]
  },
  {
   "cell_type": "code",
   "execution_count": 21,
   "id": "c71eb1c5-f502-4d04-8865-fef68dcb1206",
   "metadata": {},
   "outputs": [
    {
     "name": "stdout",
     "output_type": "stream",
     "text": [
      "0\n"
     ]
    }
   ],
   "source": [
    "expectx = integrate(x*(A1[0]*exp(-m*omega/(2*hbar)*x**2))**2,\\\n",
    "(x,-oo,oo))\n",
    "print(expectx)"
   ]
  },
  {
   "cell_type": "code",
   "execution_count": 23,
   "id": "a2596af7-cdca-45db-a624-d448b2140357",
   "metadata": {},
   "outputs": [
    {
     "name": "stderr",
     "output_type": "stream",
     "text": [
      "findfont: Font family ['cmsy10'] not found. Falling back to DejaVu Sans.\n",
      "findfont: Font family ['cmr10'] not found. Falling back to DejaVu Sans.\n",
      "findfont: Font family ['cmtt10'] not found. Falling back to DejaVu Sans.\n",
      "findfont: Font family ['cmmi10'] not found. Falling back to DejaVu Sans.\n",
      "findfont: Font family ['cmb10'] not found. Falling back to DejaVu Sans.\n",
      "findfont: Font family ['cmss10'] not found. Falling back to DejaVu Sans.\n",
      "findfont: Font family ['cmex10'] not found. Falling back to DejaVu Sans.\n"
     ]
    },
    {
     "data": {
      "image/png": "[encoded data removed]",
      "text/plain": [
       "<Figure size 640x480 with 1 Axes>"
      ]
     },
     "metadata": {},
     "output_type": "display_data"
    }
   ],
   "source": [
    "import numpy as np\n",
    "import matplotlib.pyplot as plt\n",
    "\n",
    "m =1.163e-26#effectivevibrationalmassofnitrogenmoleculeinkg\n",
    "omega =5.16e14#molecularvibrationfrequencyins**-1\n",
    "hbar =1.0545e-34#hbarinJ.s\n",
    "\n",
    "# Normalization constant A\n",
    "A = m**(1/4)*omega**(1/4)/(np.pi**(1/4)*hbar**(1/4))\n",
    "\n",
    "f = lambda x: A*np.exp(-m*omega/(2*hbar)*x**2)\n",
    "x1 = np.linspace(-.3e-10, .3e-10,100)\n",
    "\n",
    "plt.plot(x1, f(x1))\n",
    "plt.title(\"Wavefunction of quantum oscillator\")\n",
    "plt.xlabel(\"Position x [m]\")\n",
    "plt.ylabel(\"Wavefunction $\\psi$(x)\")\n",
    "plt.tight_layout()\n",
    "plt.show()"
   ]
  },
  {
   "cell_type": "markdown",
   "id": "204b042b-5ad5-4a96-ba5e-fa4937114f6f",
   "metadata": {},
   "source": [
    "### Example 3.8: The Hermite polynomials"
   ]
  },
  {
   "cell_type": "code",
   "execution_count": 24,
   "id": "311182a2-805e-4047-bb62-acfe3a531b38",
   "metadata": {},
   "outputs": [
    {
     "name": "stdout",
     "output_type": "stream",
     "text": [
      "The integral =  (0.0, 0.0)\n"
     ]
    }
   ],
   "source": [
    "from scipy import special, integrate\n",
    "import matplotlib.pyplot as plt\n",
    "import numpy as np\n",
    "\n",
    "p4 = special.hermite(4)  # Hermite polynomial n=4\n",
    "p3 = special.hermite(3)  # Hermite polynomial n=3\n",
    "\n",
    "# define integrand function\n",
    "f = lambda x: special.eval_hermite(3,x)*special.eval_hermite(4,x)*\\\n",
    "np.exp(-x**2)\n",
    "\n",
    "print(\"The integral = \", integrate.quad(f, -np.inf, np.inf))"
   ]
  },
  {
   "cell_type": "code",
   "execution_count": 25,
   "id": "f1e4be00-c0e7-4d4f-95ad-b3da6d98301c",
   "metadata": {},
   "outputs": [
    {
     "data": {
      "image/png": "[encoded data removed]",
      "text/plain": [
       "<Figure size 640x480 with 1 Axes>"
      ]
     },
     "metadata": {},
     "output_type": "display_data"
    }
   ],
   "source": [
    "x1 = np.linspace(-2, 2, 100)\n",
    "plt.title(\"Hermite polynomials for n=3,4\")\n",
    "plt.plot(x1, p3(x1), \"b-\", label=\"H$_3$(x)\")\n",
    "plt.plot(x1, p4(x1), \"k+\", label=\"H$_4$(x)\")\n",
    "plt.xlabel('x')\n",
    "plt.plot(x1, [0]*len(x1))\n",
    "leg = plt.legend()\n",
    "leg.get_frame().set_linewidth(0.0)\n",
    "plt.show()"
   ]
  },
  {
   "cell_type": "markdown",
   "id": "4f2b6067-9207-4594-a051-ee9b97b813d0",
   "metadata": {},
   "source": [
    "### Example 3.9: The Maxwell-Boltzmann distribution"
   ]
  },
  {
   "cell_type": "code",
   "execution_count": 27,
   "id": "dc54b62b-e522-4781-ad7c-731bf3e72493",
   "metadata": {},
   "outputs": [
    {
     "name": "stdout",
     "output_type": "stream",
     "text": [
      "2*sqrt(2)*sqrt(T)*sqrt(k)/(sqrt(pi)*sqrt(m))\n"
     ]
    }
   ],
   "source": [
    "from sympy import symbols, sqrt, pi, exp, integrate, oo, simplify\n",
    "import matplotlib.pyplot as plt\n",
    "import numpy as np\n",
    "\n",
    "v, m, k, T = symbols('v, m, k, T', positive=True)\n",
    "\n",
    "f1 = sqrt(2/pi*((m/(k*T))**3))*v**3*exp(-m*v**2/(2*k*T))\n",
    "int1 = integrate(f1, (v, 0, oo))\n",
    "print(simplify(int1))"
   ]
  },
  {
   "cell_type": "code",
   "execution_count": 29,
   "id": "66ca58fa-9dbb-44f7-b144-551a82b528c9",
   "metadata": {},
   "outputs": [
    {
     "data": {
      "image/png": "[encoded data removed]",
      "text/plain": [
       "<Figure size 640x480 with 1 Axes>"
      ]
     },
     "metadata": {},
     "output_type": "display_data"
    }
   ],
   "source": [
    "# Plot MB distribution of speeds for nitrogen\n",
    "m =6.6464731e-27#atomicmassnitrogeninkg\n",
    "T =300 # roomtemepratureinK\n",
    "k =1.380649e-23#BoltzmannconstantinJ/K\n",
    "\n",
    "v1 = np.linspace(1, 4000, 100)\n",
    "a = np.sqrt(2/np.pi*((m/(k*T))**3))\n",
    "b = m/(2*k*T)\n",
    "\n",
    "f = lambda v: a*v**2*np.exp(-b*v**2)\n",
    "\n",
    "plt.plot(v1, f(v1))\n",
    "plt.title('Maxwell-Boltzmann distribution of speeds')\n",
    "plt.xlabel('Speed [m/s]')\n",
    "plt.ylabel('Dsitribution of speeds f(v)')\n",
    "plt.show()"
   ]
  },
  {
   "cell_type": "markdown",
   "id": "64ef165d-0dc5-49d3-be16-8b47b6c4ee5d",
   "metadata": {},
   "source": [
    "## 3.9 Integrating fucntions defined by numpy arrays"
   ]
  },
  {
   "cell_type": "markdown",
   "id": "3a032733-ba44-408b-81b1-d076f1ac666d",
   "metadata": {},
   "source": [
    "### Example 3.10: Error function: applying the trapezoidal rule"
   ]
  },
  {
   "cell_type": "code",
   "execution_count": 32,
   "id": "e2272233-785d-44fb-be44-ab4802d0505f",
   "metadata": {},
   "outputs": [
    {
     "name": "stdout",
     "output_type": "stream",
     "text": [
      "integrate with quad:  0.855624391892149 \n",
      "\n",
      "integrate with trapz() and N=10:  0.855000132137889\n",
      "integrate with trapz() and N=100:  0.8556192348272017\n"
     ]
    }
   ],
   "source": [
    "from scipy import integrate\n",
    "import numpy as np\n",
    "\n",
    "f = lambda x: np.exp(-x**2/2)\n",
    "print(\"integrate with quad: \", integrate.quad(f, 0, 1)[0], '\\n')\n",
    "x1 = np.linspace(0, 1, 10)\n",
    "\n",
    "print(\"integrate with trapz() and N=10: \", np.trapz(f(x1),x1))\n",
    "\n",
    "x1 = np.linspace(0, 1, 100)\n",
    "print(\"integrate with trapz() and N=100: \", np.trapz(f(x1),x1))"
   ]
  },
  {
   "cell_type": "markdown",
   "id": "e2aef372-8753-4349-8203-339ceca077db",
   "metadata": {},
   "source": [
    "### 3.9.1 Simpson's rule"
   ]
  },
  {
   "cell_type": "markdown",
   "id": "5a255e06-4d71-46b1-8c6a-b6a0a8fa9440",
   "metadata": {},
   "source": [
    "### Example 3.11: Error function: applying Simpson's rule"
   ]
  },
  {
   "cell_type": "code",
   "execution_count": 34,
   "id": "eab8e193-919b-4b42-b851-cb3166170e2a",
   "metadata": {},
   "outputs": [
    {
     "name": "stdout",
     "output_type": "stream",
     "text": [
      "integragte with quad:  1.7112487837842973 \n",
      "\n",
      "1.711422150923532\n",
      "1.7112487946132824\n"
     ]
    }
   ],
   "source": [
    "from scipy import integrate\n",
    "import matplotlib.pyplot as plt\n",
    "import numpy as np\n",
    "\n",
    "f = lambda x: np.exp(-x**2/2)\n",
    "\n",
    "print(\"integragte with quad: \", integrate.quad(f, -1, 1)[0], '\\n')\n",
    "x1 = np.linspace(-1, 1, 10)\n",
    "print(integrate.simpson(f(x1), x1))\n",
    "x1 = np.linspace(-1, 1, 100)\n",
    "print(integrate.simpson(f(x1), x1))"
   ]
  },
  {
   "cell_type": "code",
   "execution_count": null,
   "id": "195f51b4-4946-4d0a-a759-6b401dccc1a8",
   "metadata": {},
   "outputs": [],
   "source": []
  }
 ],
 "metadata": {
  "kernelspec": {
   "display_name": "Python 3 (ipykernel)",
   "language": "python",
   "name": "python3"
  },
  "language_info": {
   "codemirror_mode": {
    "name": "ipython",
    "version": 3
   },
   "file_extension": ".py",
   "mimetype": "text/x-python",
   "name": "python",
   "nbconvert_exporter": "python",
   "pygments_lexer": "ipython3",
   "version": "3.11.5"
  }
 },
 "nbformat": 4,
 "nbformat_minor": 5
}
